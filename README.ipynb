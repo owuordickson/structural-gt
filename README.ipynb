{
 "cells": [
  {
   "cell_type": "markdown",
   "id": "44a63ce4-197b-49fb-a6ef-0d7d062258f8",
   "metadata": {},
   "source": [
    "# Structural GTb\n",
    "\n",
    "A software tool that implements structural graph theory and chaos engineering for nano-structures.\n",
    "\n",
    "## Installation\n",
    "\n",
    "This specified version is not currently available for download via GitHub. Therefore, please follow the manual installation instructions provided below:\n",
    "\n",
    "* Install Python version 3.11 on your computer.\n",
    "* Download link https://drive.google.com/file/d/1jhr5w0KhCAbMS9kxbOlean0X2q2HrZy9/view?usp=drive_link\n",
    "* Download, extract the ```source code``` folder named **'structural-gt'** and save it to your preferred location on your PC.\n",
    "* Open a terminal application such as CMD. \n",
    "* Navigate to the location where you saved the **'structural-gt'** folder using the terminal. \n",
    "* Execute the following commands:\n",
    "\n",
    "```\n",
    "cd structural-gt\n",
    "python3 -m venv venv_sgt\n",
    "source venv_sgt/bin/activate\n",
    "pip install --upgrade pip\n",
    "pip install -r requirements.txt\n",
    "pip install .\n",
    "deactivate\n",
    "```\n",
    "\n",
    "## Executing \n",
    "\n",
    "To execute the program, please follow these steps:\n",
    "\n",
    "* Open a terminal application such as CMD.\n",
    "* Navigate to the **'structural-gt'** folder using the terminal.\n",
    "* Once inside the folder, execute the following command:\n",
    "\n",
    "```\n",
    "structural-gt/venv_sgt/bin/StructuralGTb\n",
    "```"
   ]
  }
 ],
 "metadata": {
  "kernelspec": {
   "display_name": "Python 3 (ipykernel)",
   "language": "python",
   "name": "python3"
  },
  "language_info": {
   "codemirror_mode": {
    "name": "ipython",
    "version": 3
   },
   "file_extension": ".py",
   "mimetype": "text/x-python",
   "name": "python",
   "nbconvert_exporter": "python",
   "pygments_lexer": "ipython3",
   "version": "3.11.0"
  }
 },
 "nbformat": 4,
 "nbformat_minor": 5
}
