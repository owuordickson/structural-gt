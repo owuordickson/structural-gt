{
 "cells": [
  {
   "cell_type": "markdown",
   "id": "44a63ce4-197b-49fb-a6ef-0d7d062258f8",
   "metadata": {},
   "source": [
    "# Structural GTb\n",
    "\n",
    "A software tool that implements structural graph theory and chaos engineering for nano-structures.\n",
    "\n",
    "## Installation\n",
    "\n",
    "This specified version is not currently available for download via GitHub. Therefore, please follow the manual installation instructions provided below:\n",
    "\n",
    "* Install Python version 3.11 on your computer.\n",
    "* Download the shared ZIP file, extract it and save it as a folder named **'structural-gt'** to your preferred location on your PC.\n",
    "* Open a terminal application such as CMD. \n",
    "* Navigate to the location where you saved the **'structural-gt'** folder using the terminal. \n",
    "* Execute the following commands:\n",
    "\n",
    "```\n",
    "cd structural-gt\n",
    "pip install --upgrade pip\n",
    "pip uninstall pyqt6-tools pyqt6-plugins\n",
    "pip install -r requirements.txt\n",
    "pip install .\n",
    "```\n",
    "\n",
    "## Executing \n",
    "\n",
    "To execute the program, please follow these steps:\n",
    "\n",
    "* Open a terminal application such as CMD.\n",
    "* Navigate to the **'structural-gt'** folder using the terminal.\n",
    "* Once inside the folder, execute the following command:\n",
    "\n",
    "```\n",
    "StructuralGTb\n",
    "```"
   ]
  }
 ],
 "metadata": {
  "kernelspec": {
   "display_name": "Python 3 (ipykernel)",
   "language": "python",
   "name": "python3"
  },
  "language_info": {
   "codemirror_mode": {
    "name": "ipython",
    "version": 3
   },
   "file_extension": ".py",
   "mimetype": "text/x-python",
   "name": "python",
   "nbconvert_exporter": "python",
   "pygments_lexer": "ipython3",
   "version": "3.11.9"
  }
 },
 "nbformat": 4,
 "nbformat_minor": 5
}
